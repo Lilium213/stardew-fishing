{
 "cells": [
  {
   "cell_type": "code",
   "execution_count": 1,
   "metadata": {
    "collapsed": true,
    "ExecuteTime": {
     "end_time": "2023-07-26T16:33:14.581187300Z",
     "start_time": "2023-07-26T16:33:14.460309700Z"
    }
   },
   "outputs": [],
   "source": [
    "import numpy as np"
   ]
  },
  {
   "cell_type": "markdown",
   "source": [],
   "metadata": {
    "collapsed": false
   }
  },
  {
   "cell_type": "code",
   "execution_count": null,
   "outputs": [],
   "source": [
    "x_values = [1,4,5,2,4,7,8,4,6,1]\n",
    "xx_values = [[1,4,5,2,4,7,8,4,6,1],[1,4,5,2,4,7,8,4,6,1],[1,4,5,2,4,7,8,4,6,1],[1,4,5,2,4,7,8,4,6,1]]\n",
    "xxx_values = [[[1,4,5,2,4,7,8,4,6,1],[1,4,5,2,4,7,8,4,6,1],[1,4,5,2,4,7,8,4,6,1],[1,4,5,2,4,7,8,4,6,1]],[[1,4,5,2,4,7,8,4,6,1],[1,4,5,2,4,7,8,4,6,1],[1,4,5,2,4,7,8,4,6,1],[1,4,5,2,4,7,8,4,6,1]],[[1,4,5,2,4,7,8,4,6,1],[1,4,5,2,4,7,8,4,6,1],[1,4,5,2,4,7,8,4,6,1],[1,4,5,2,4,7,8,4,6,1]]]\n",
    "numpy_x_values = np.array(x_values)\n",
    "numpy_xx_values = np.array(xx_values)\n",
    "numpy_xxx_values = np.array(xxx_values)"
   ],
   "metadata": {
    "collapsed": false
   }
  },
  {
   "cell_type": "code",
   "execution_count": 2,
   "outputs": [
    {
     "name": "stdout",
     "output_type": "stream",
     "text": [
      "[0. 0. 0. 0. 0.]\n",
      "[1 1 1 1 1 1 1 1 1 1]\n",
      "[            nan 0.00000000e+000 6.47930144e-312 2.02369289e-320\n",
      " 0.00000000e+000 0.00000000e+000 0.00000000e+000 0.00000000e+000\n",
      " 0.00000000e+000 0.00000000e+000]\n"
     ]
    }
   ],
   "source": [
    "zeros_array = np.zeros(5)\n",
    "print(zeros_array)\n",
    "ones_array = np.ones(10, dtype=int)\n",
    "print(ones_array)\n",
    "empty_array = np.empty(10)\n",
    "print(empty_array)"
   ],
   "metadata": {
    "collapsed": false,
    "ExecuteTime": {
     "end_time": "2023-07-26T16:33:15.348332Z",
     "start_time": "2023-07-26T16:33:15.325360400Z"
    }
   }
  },
  {
   "cell_type": "code",
   "execution_count": null,
   "outputs": [],
   "source": [
    "numpy_range_array = np.arange(0, 10, dtype=int)\n",
    "print(numpy_range_array)"
   ],
   "metadata": {
    "collapsed": false
   }
  },
  {
   "cell_type": "code",
   "execution_count": null,
   "outputs": [],
   "source": [
    "linspace_array = np.linspace(1, 10, 5)\n",
    "print(linspace_array)"
   ],
   "metadata": {
    "collapsed": false
   }
  },
  {
   "cell_type": "code",
   "execution_count": null,
   "outputs": [],
   "source": [
    "matrix = np.array([[1,2,3],[4,5,6],[7,8,9]])\n",
    "numpy_matrix = np.array(matrix)\n",
    "print(numpy_matrix)\n"
   ],
   "metadata": {
    "collapsed": false
   }
  },
  {
   "cell_type": "code",
   "execution_count": null,
   "outputs": [],
   "source": [
    "print(np.zeros((3,7)))"
   ],
   "metadata": {
    "collapsed": false
   }
  },
  {
   "cell_type": "code",
   "execution_count": null,
   "outputs": [],
   "source": [
    "some_array = np.array([1, 2, 3, 4, 5, 6])\n",
    "reshaped_array = some_array.reshape(2, 3)\n",
    "print(reshaped_array)\n",
    "\n"
   ],
   "metadata": {
    "collapsed": false
   }
  },
  {
   "cell_type": "code",
   "execution_count": null,
   "outputs": [],
   "source": [
    "def f(x,y):\n",
    "    return x* (y + 1)\n",
    "\n",
    "some_matrix = np.fromfunction(f, (3,3))\n",
    "print(some_matrix)"
   ],
   "metadata": {
    "collapsed": false
   }
  },
  {
   "cell_type": "code",
   "execution_count": 63,
   "outputs": [],
   "source": [
    "some_matrix = np.array([[1, 2, 3], [4, 2, 6], [7, 8, 9]])\n",
    "\n",
    "print(some_matrix)\n"
   ],
   "metadata": {
    "collapsed": false
   }
  },
  {
   "cell_type": "code",
   "execution_count": 16,
   "outputs": [
    {
     "name": "stdout",
     "output_type": "stream",
     "text": [
      "[1 2 3 4 5 0 0 0 0 1]\n",
      "[4 5 0 0 0 0]\n",
      "[[1 2 3]\n",
      " [4 2 6]\n",
      " [7 8 9]]\n"
     ]
    }
   ],
   "source": [
    "some_array = np.array([1, 2, 3, 4, 5, 6, 7, 8, 9, 10])\n",
    "some_array[5:10] = [0, 0, 0, 0, 1]\n",
    "print(some_array)\n",
    "print(some_array[3:9])"
   ],
   "metadata": {
    "collapsed": false,
    "ExecuteTime": {
     "end_time": "2023-07-26T16:38:15.097413400Z",
     "start_time": "2023-07-26T16:38:15.085413400Z"
    }
   }
  },
  {
   "cell_type": "code",
   "execution_count": 21,
   "outputs": [
    {
     "name": "stdout",
     "output_type": "stream",
     "text": [
      "[[ 1  4  3]\n",
      " [ 4 -1  6]\n",
      " [-1  2 -1]]\n"
     ]
    }
   ],
   "source": [
    "some_matrix = np.array([[1, 4, 3], [4, 8, 6], [7, 2, 9]])\n",
    "#limit values: any value greater or equal than 7 should be -1\n",
    "some_matrix[some_matrix >= 7] = -1\n",
    "print(some_matrix)"
   ],
   "metadata": {
    "collapsed": false,
    "ExecuteTime": {
     "end_time": "2023-07-26T16:41:56.142379200Z",
     "start_time": "2023-07-26T16:41:56.129388900Z"
    }
   }
  },
  {
   "cell_type": "code",
   "execution_count": null,
   "outputs": [],
   "source": [
    "\n",
    "\n",
    "some_array = np.array([1, 2, 3, 4, 5])\n",
    "result = some_array * 2\n",
    "print(result)\n"
   ],
   "metadata": {
    "collapsed": false
   }
  },
  {
   "cell_type": "code",
   "execution_count": 24,
   "outputs": [
    {
     "name": "stdout",
     "output_type": "stream",
     "text": [
      "[[22 28]\n",
      " [49 64]]\n",
      "[[22 28]\n",
      " [49 64]]\n",
      "[[22 28]\n",
      " [49 64]]\n",
      "[[ 9 12 15]\n",
      " [19 26 33]\n",
      " [29 40 51]]\n"
     ]
    }
   ],
   "source": [
    "matrix1 = np.array([[1, 2, 3], [4, 5, 6]])\n",
    "matrix2 = np.array([[1, 2], [3, 4], [5, 6]])\n",
    "result = np.dot(matrix1, matrix2)\n",
    "print(result)\n",
    "result = matrix1.dot(matrix2)\n",
    "print(result)\n",
    "result = matrix1 @ matrix2\n",
    "print(result)\n",
    "result = matrix2 @ matrix1\n",
    "print(result)\n"
   ],
   "metadata": {
    "collapsed": false,
    "ExecuteTime": {
     "end_time": "2023-07-26T18:56:12.709256600Z",
     "start_time": "2023-07-26T18:56:12.692303200Z"
    }
   }
  },
  {
   "cell_type": "code",
   "execution_count": 29,
   "outputs": [
    {
     "name": "stdout",
     "output_type": "stream",
     "text": [
      "[1 2 3 4 5 6]\n",
      "[1 9 8 2 3]\n",
      "[1 2]\n"
     ]
    }
   ],
   "source": [
    "some_array = np.array([1, 2, 3])\n",
    "result = np.append(some_array, [4, 5, 6])\n",
    "print(result)\n",
    "result = np.insert(some_array, 1, [9,8])\n",
    "print(result)\n",
    "result = np.delete(some_array, 2)\n",
    "print(result)"
   ],
   "metadata": {
    "collapsed": false,
    "ExecuteTime": {
     "end_time": "2023-07-26T19:05:09.086456700Z",
     "start_time": "2023-07-26T19:05:09.069758700Z"
    }
   }
  },
  {
   "cell_type": "code",
   "execution_count": 42,
   "outputs": [
    {
     "ename": "SyntaxError",
     "evalue": "incomplete input (2948932109.py, line 7)",
     "output_type": "error",
     "traceback": [
      "\u001B[1;36m  Cell \u001B[1;32mIn[42], line 7\u001B[1;36m\u001B[0m\n\u001B[1;33m    def diffInDaysBetweenDates(date1, date2):\u001B[0m\n\u001B[1;37m                                             ^\u001B[0m\n\u001B[1;31mSyntaxError\u001B[0m\u001B[1;31m:\u001B[0m incomplete input\n"
     ]
    }
   ],
   "source": [
    "matrix = np.array([[1, 2, 3, 1], [4, 5, 6, 1]])\n",
    "result = np.append(matrix, [[1,1,1,1]], axis=0)\n",
    "print(result)\n",
    "result = np.append(matrix, [[13], [13]], axis=1)\n",
    "print(result)"
   ],
   "metadata": {
    "collapsed": false,
    "ExecuteTime": {
     "end_time": "2023-07-26T19:20:43.033282400Z",
     "start_time": "2023-07-26T19:20:43.020316800Z"
    }
   }
  },
  {
   "cell_type": "code",
   "execution_count": null,
   "outputs": [],
   "source": [],
   "metadata": {
    "collapsed": false
   }
  }
 ],
 "metadata": {
  "kernelspec": {
   "display_name": "Python 3",
   "language": "python",
   "name": "python3"
  },
  "language_info": {
   "codemirror_mode": {
    "name": "ipython",
    "version": 2
   },
   "file_extension": ".py",
   "mimetype": "text/x-python",
   "name": "python",
   "nbconvert_exporter": "python",
   "pygments_lexer": "ipython2",
   "version": "2.7.6"
  }
 },
 "nbformat": 4,
 "nbformat_minor": 0
}
