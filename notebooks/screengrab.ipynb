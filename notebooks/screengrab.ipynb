{
 "cells": [
  {
   "cell_type": "code",
   "execution_count": null,
   "id": "initial_id",
   "metadata": {
    "collapsed": true
   },
   "outputs": [],
   "source": [
    "import cv2\n",
    "import numpy\n",
    "\n",
    "import mss\n",
    "\n",
    "with mss.mss() as sct:\n",
    "    # Part of the screen to capture\n",
    "    monitor = {\"top\": 40, \"left\": 0, \"width\": 800, \"height\": 640}\n",
    "\n",
    "    while \"Screen capturing\":\n",
    "        last_time = time.time()\n",
    "\n",
    "        # Get raw pixels from the screen, save it to a Numpy array\n",
    "        img = numpy.array(sct.grab(monitor))\n",
    "\n",
    "        # Display the picture\n",
    "        cv2.imshow(\"OpenCV/Numpy normal\", img)\n",
    "\n",
    "        # Display the picture in grayscale\n",
    "        # cv2.imshow('OpenCV/Numpy grayscale',\n",
    "        #            cv2.cvtColor(img, cv2.COLOR_BGRA2GRAY))\n",
    "\n",
    "        print(f\"fps: {1 / (time.time() - last_time)}\")\n",
    "\n",
    "        # Press \"q\" to quit\n",
    "        if cv2.waitKey(25) & 0xFF == ord(\"q\"):\n",
    "            cv2.destroyAllWindows()\n",
    "            break"
   ]
  }
 ],
 "metadata": {
  "kernelspec": {
   "display_name": "Python 3",
   "language": "python",
   "name": "python3"
  },
  "language_info": {
   "codemirror_mode": {
    "name": "ipython",
    "version": 2
   },
   "file_extension": ".py",
   "mimetype": "text/x-python",
   "name": "python",
   "nbconvert_exporter": "python",
   "pygments_lexer": "ipython2",
   "version": "2.7.6"
  }
 },
 "nbformat": 4,
 "nbformat_minor": 5
}
